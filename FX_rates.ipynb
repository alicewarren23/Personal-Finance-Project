{
 "cells": [
  {
   "cell_type": "code",
   "execution_count": null,
   "id": "1dc4fe84",
   "metadata": {},
   "outputs": [
    {
     "name": "stderr",
     "output_type": "stream",
     "text": [
      "/var/folders/b7/q4qn51851rbf8n4823bbcm7r0000gn/T/ipykernel_42857/2035097557.py:15: FutureWarning: YF.download() has changed argument auto_adjust default to True\n",
      "  fx_data = yf.download(fx_ticker, start=start_date, end=end_date)\n",
      "[*********************100%***********************]  1 of 1 completed"
     ]
    },
    {
     "name": "stdout",
     "output_type": "stream",
     "text": [
      "USD/GBP Exchange Rate Data:\n"
     ]
    },
    {
     "name": "stderr",
     "output_type": "stream",
     "text": [
      "\n"
     ]
    },
    {
     "data": {
      "text/html": [
       "<div>\n",
       "<style scoped>\n",
       "    .dataframe tbody tr th:only-of-type {\n",
       "        vertical-align: middle;\n",
       "    }\n",
       "\n",
       "    .dataframe tbody tr th {\n",
       "        vertical-align: top;\n",
       "    }\n",
       "\n",
       "    .dataframe thead tr th {\n",
       "        text-align: left;\n",
       "    }\n",
       "\n",
       "    .dataframe thead tr:last-of-type th {\n",
       "        text-align: right;\n",
       "    }\n",
       "</style>\n",
       "<table border=\"1\" class=\"dataframe\">\n",
       "  <thead>\n",
       "    <tr>\n",
       "      <th>Price</th>\n",
       "      <th>Close</th>\n",
       "      <th>High</th>\n",
       "      <th>Low</th>\n",
       "      <th>Open</th>\n",
       "      <th>Volume</th>\n",
       "    </tr>\n",
       "    <tr>\n",
       "      <th>Ticker</th>\n",
       "      <th>GBPUSD=X</th>\n",
       "      <th>GBPUSD=X</th>\n",
       "      <th>GBPUSD=X</th>\n",
       "      <th>GBPUSD=X</th>\n",
       "      <th>GBPUSD=X</th>\n",
       "    </tr>\n",
       "    <tr>\n",
       "      <th>Date</th>\n",
       "      <th></th>\n",
       "      <th></th>\n",
       "      <th></th>\n",
       "      <th></th>\n",
       "      <th></th>\n",
       "    </tr>\n",
       "  </thead>\n",
       "  <tbody>\n",
       "    <tr>\n",
       "      <th>2024-08-28</th>\n",
       "      <td>1.325750</td>\n",
       "      <td>1.326260</td>\n",
       "      <td>1.319261</td>\n",
       "      <td>1.325645</td>\n",
       "      <td>0</td>\n",
       "    </tr>\n",
       "    <tr>\n",
       "      <th>2024-08-29</th>\n",
       "      <td>1.319366</td>\n",
       "      <td>1.322701</td>\n",
       "      <td>1.314665</td>\n",
       "      <td>1.319453</td>\n",
       "      <td>0</td>\n",
       "    </tr>\n",
       "    <tr>\n",
       "      <th>2024-08-30</th>\n",
       "      <td>1.316621</td>\n",
       "      <td>1.320132</td>\n",
       "      <td>1.312646</td>\n",
       "      <td>1.316517</td>\n",
       "      <td>0</td>\n",
       "    </tr>\n",
       "    <tr>\n",
       "      <th>2024-09-02</th>\n",
       "      <td>1.312853</td>\n",
       "      <td>1.315443</td>\n",
       "      <td>1.312078</td>\n",
       "      <td>1.313077</td>\n",
       "      <td>0</td>\n",
       "    </tr>\n",
       "    <tr>\n",
       "      <th>2024-09-03</th>\n",
       "      <td>1.314199</td>\n",
       "      <td>1.314752</td>\n",
       "      <td>1.309003</td>\n",
       "      <td>1.314112</td>\n",
       "      <td>0</td>\n",
       "    </tr>\n",
       "  </tbody>\n",
       "</table>\n",
       "</div>"
      ],
      "text/plain": [
       "Price          Close      High       Low      Open   Volume\n",
       "Ticker      GBPUSD=X  GBPUSD=X  GBPUSD=X  GBPUSD=X GBPUSD=X\n",
       "Date                                                       \n",
       "2024-08-28  1.325750  1.326260  1.319261  1.325645        0\n",
       "2024-08-29  1.319366  1.322701  1.314665  1.319453        0\n",
       "2024-08-30  1.316621  1.320132  1.312646  1.316517        0\n",
       "2024-09-02  1.312853  1.315443  1.312078  1.313077        0\n",
       "2024-09-03  1.314199  1.314752  1.309003  1.314112        0"
      ]
     },
     "execution_count": 2,
     "metadata": {},
     "output_type": "execute_result"
    }
   ],
   "source": [
    "import yfinance as yf\n",
    "import pandas as pd\n",
    "import matplotlib.pyplot as plt\n",
    "import datetime as dt\n",
    "\n",
    "fx_ticker = \"GBPUSD=X\"  \n",
    "\n",
    "\n",
    "end_date = dt.datetime.now()\n",
    "start_date = end_date - dt.timedelta(days=365)  \n",
    "fx_data = yf.download(fx_ticker, start=start_date, end=end_date)\n",
    "\n",
    "print(\"USD/GBP Exchange Rate Data:\")\n",
    "fx_data.head()"
   ]
  },
  {
   "cell_type": "code",
   "execution_count": 3,
   "id": "263aee19",
   "metadata": {},
   "outputs": [],
   "source": [
    "fx_data.to_csv('fx_data.csv')"
   ]
  }
 ],
 "metadata": {
  "kernelspec": {
   "display_name": ".venv",
   "language": "python",
   "name": "python3"
  },
  "language_info": {
   "codemirror_mode": {
    "name": "ipython",
    "version": 3
   },
   "file_extension": ".py",
   "mimetype": "text/x-python",
   "name": "python",
   "nbconvert_exporter": "python",
   "pygments_lexer": "ipython3",
   "version": "3.13.2"
  }
 },
 "nbformat": 4,
 "nbformat_minor": 5
}
