{
 "cells": [
  {
   "cell_type": "code",
   "execution_count": 5,
   "id": "8d36de87",
   "metadata": {},
   "outputs": [
    {
     "name": "stderr",
     "output_type": "stream",
     "text": [
      "[*********************100%***********************]  8 of 8 completed\n"
     ]
    }
   ],
   "source": [
    "import yfinance as yf\n",
    "import pandas as pd\n",
    "import numpy as np\n",
    "import matplotlib.pyplot as plt\n",
    "\n",
    "# Download portfolio data\n",
    "tickers = ['VUAG.L', 'VWRP.L', 'JPM', 'CNDX.L', 'RR.L', 'AAPL', 'NVDA', 'CMG']\n",
    "data = yf.download(\n",
    "    tickers=tickers,\n",
    "    start='2024-01-01',\n",
    "    end='2025-09-05',\n",
    "    group_by='ticker',\n",
    "    auto_adjust=False,\n",
    "    actions=True,\n",
    "    threads=True\n",
    ")\n",
    "data.to_csv('portfolio_data.csv')"
   ]
  },
  {
   "cell_type": "code",
   "execution_count": null,
   "id": "476601c7",
   "metadata": {},
   "outputs": [],
   "source": [
    "import yfinance as yf\n",
    "import pandas as pd\n",
    "import matplotlib.pyplot as plt\n",
    "import datetime as dt\n",
    "\n",
    "fx_ticker = \"GBPUSD=X\"  \n",
    "\n",
    "end_date = dt.datetime.now()\n",
    "start_date = end_date - dt.timedelta(days=365)  \n",
    "fx_data = yf.download(fx_ticker, start=start_date, end=end_date)\n",
    "fx_data.to_csv('fx_data.csv')\n",
    "\n",
    "fx_data.tail()"
   ]
  },
  {
   "cell_type": "code",
   "execution_count": 6,
   "id": "83adcf8e",
   "metadata": {},
   "outputs": [],
   "source": [
    "# Load and process portfolio data\n",
    "df = pd.read_csv('portfolio_data.csv', header=[0,1], index_col=0, parse_dates=True)\n",
    "\n",
    "# Flatten columns\n",
    "df.columns = ['{}_{}'.format(ticker, field) for ticker, field in df.columns]\n",
    "df.columns = [col.replace('^', '') for col in df.columns]\n",
    "df.to_csv('flat-portfolio_data.csv')\n",
    "\n",
    "# Rename CNDX.L to CNDX\n",
    "df.columns = [col.replace('CNDX.L', 'CNDX') for col in df.columns]\n",
    "\n",
    "# Fix RR.L prices by dividing by 100\n",
    "rr_columns = [col for col in df.columns if col.startswith('RR.L_')]\n",
    "for col in rr_columns:\n",
    "    df[col] = df[col] / 100\n",
    "\n",
    "# Remove rows with NaN or 0 values in Adj Close columns\n",
    "adj_close_columns = [col for col in df.columns if col.endswith('_Adj Close')]\n",
    "df_cleaned = df.dropna()\n",
    "df_cleaned = df_cleaned[(df_cleaned[adj_close_columns] != 0).all(axis=1)]\n",
    "df = df_cleaned\n",
    "\n",
    "df.to_csv('flat-portfolio_data.csv')"
   ]
  },
  {
   "cell_type": "code",
   "execution_count": 7,
   "id": "4c7c5b21",
   "metadata": {},
   "outputs": [
    {
     "name": "stdout",
     "output_type": "stream",
     "text": [
      "Conversion completed. Data saved to 'converted_portfolio_data.csv'\n"
     ]
    }
   ],
   "source": [
    "# Load FX data\n",
    "fx_data = pd.read_csv('fx_data.csv', skiprows=3)\n",
    "fx_data.columns = ['Date', 'Close', 'High', 'Low', 'Open', 'Volume']\n",
    "fx_data['Date'] = pd.to_datetime(fx_data['Date'])\n",
    "fx_data.set_index('Date', inplace=True)\n",
    "fx_data['USD_to_GBP'] = 1 / fx_data['Close']\n",
    "\n",
    "# Load flattened portfolio data\n",
    "portfolio = pd.read_csv('flat-portfolio_data.csv', index_col=0, parse_dates=True)\n",
    "all_columns = portfolio.columns\n",
    "stock_symbols = set([col.split('_')[0] for col in all_columns])\n",
    "gbp_stocks = [symbol for symbol in stock_symbols if '.L' in symbol]\n",
    "usd_stocks = [symbol for symbol in stock_symbols if '.L' not in symbol]\n",
    "\n",
    "# Convert USD stocks to GBP\n",
    "converted_portfolio = portfolio.copy()\n",
    "date_count = len(converted_portfolio.index)\n",
    "for i, date in enumerate(converted_portfolio.index):\n",
    "    closest_date = fx_data.index[fx_data.index <= date][-1] if any(fx_data.index <= date) else fx_data.index[0]\n",
    "    conversion_rate = fx_data.loc[closest_date, 'USD_to_GBP']\n",
    "    for stock in usd_stocks:\n",
    "        stock_columns = [col for col in converted_portfolio.columns if col.startswith(f\"{stock}_\")]\n",
    "        for col in stock_columns:\n",
    "            if pd.api.types.is_numeric_dtype(converted_portfolio[col]):\n",
    "                converted_portfolio.loc[date, col] = portfolio.loc[date, col] * conversion_rate\n",
    "converted_portfolio.to_csv('converted_portfolio_data.csv')\n",
    "print(\"Conversion completed. Data saved to 'converted_portfolio_data.csv'\")"
   ]
  }
 ],
 "metadata": {
  "kernelspec": {
   "display_name": ".venv",
   "language": "python",
   "name": "python3"
  },
  "language_info": {
   "codemirror_mode": {
    "name": "ipython",
    "version": 3
   },
   "file_extension": ".py",
   "mimetype": "text/x-python",
   "name": "python",
   "nbconvert_exporter": "python",
   "pygments_lexer": "ipython3",
   "version": "3.13.2"
  }
 },
 "nbformat": 4,
 "nbformat_minor": 5
}
